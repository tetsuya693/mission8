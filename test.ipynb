{
 "cells": [
  {
   "cell_type": "code",
   "execution_count": null,
   "metadata": {},
   "outputs": [
    {
     "name": "stdout",
     "output_type": "stream",
     "text": [
      "Requirement already satisfied: flask in c:\\users\\iot\\anaconda3\\lib\\site-packages (1.0.2)\n",
      "Requirement already satisfied: itsdangerous>=0.24 in c:\\users\\iot\\anaconda3\\lib\\site-packages (from flask) (0.24)\n",
      "Requirement already satisfied: Jinja2>=2.10 in c:\\users\\iot\\anaconda3\\lib\\site-packages (from flask) (2.10)\n",
      "Requirement already satisfied: Werkzeug>=0.14 in c:\\users\\iot\\anaconda3\\lib\\site-packages (from flask) (0.14.1)\n",
      "Requirement already satisfied: click>=5.1 in c:\\users\\iot\\anaconda3\\lib\\site-packages (from flask) (6.7)\n",
      "Requirement already satisfied: MarkupSafe>=0.23 in c:\\users\\iot\\anaconda3\\lib\\site-packages (from Jinja2>=2.10->flask) (1.0)\n"
     ]
    },
    {
     "name": "stderr",
     "output_type": "stream",
     "text": [
      "twisted 18.7.0 requires PyHamcrest>=1.9.0, which is not installed.\n",
      "You are using pip version 10.0.1, however version 18.1 is available.\n",
      "You should consider upgrading via the 'python -m pip install --upgrade pip' command.\n"
     ]
    },
    {
     "name": "stdout",
     "output_type": "stream",
     "text": [
      "Requirement already satisfied: boto3 in c:\\users\\iot\\anaconda3\\lib\\site-packages (1.9.79)\n",
      "Requirement already satisfied: jmespath<1.0.0,>=0.7.1 in c:\\users\\iot\\anaconda3\\lib\\site-packages (from boto3) (0.9.3)\n",
      "Requirement already satisfied: s3transfer<0.2.0,>=0.1.10 in c:\\users\\iot\\anaconda3\\lib\\site-packages (from boto3) (0.1.13)\n",
      "Requirement already satisfied: botocore<1.13.0,>=1.12.79 in c:\\users\\iot\\anaconda3\\lib\\site-packages (from boto3) (1.12.79)\n",
      "Requirement already satisfied: python-dateutil<3.0.0,>=2.1; python_version >= \"2.7\" in c:\\users\\iot\\anaconda3\\lib\\site-packages (from botocore<1.13.0,>=1.12.79->boto3) (2.7.3)\n",
      "Requirement already satisfied: urllib3<1.25,>=1.20; python_version >= \"3.4\" in c:\\users\\iot\\anaconda3\\lib\\site-packages (from botocore<1.13.0,>=1.12.79->boto3) (1.23)\n",
      "Requirement already satisfied: docutils>=0.10 in c:\\users\\iot\\anaconda3\\lib\\site-packages (from botocore<1.13.0,>=1.12.79->boto3) (0.14)\n",
      "Requirement already satisfied: six>=1.5 in c:\\users\\iot\\anaconda3\\lib\\site-packages (from python-dateutil<3.0.0,>=2.1; python_version >= \"2.7\"->botocore<1.13.0,>=1.12.79->boto3) (1.11.0)\n"
     ]
    },
    {
     "name": "stderr",
     "output_type": "stream",
     "text": [
      "twisted 18.7.0 requires PyHamcrest>=1.9.0, which is not installed.\n",
      "You are using pip version 10.0.1, however version 18.1 is available.\n",
      "You should consider upgrading via the 'python -m pip install --upgrade pip' command.\n"
     ]
    },
    {
     "name": "stdout",
     "output_type": "stream",
     "text": [
      "Requirement already satisfied: boto3 in c:\\users\\iot\\anaconda3\\lib\\site-packages (1.9.79)\n",
      "Requirement already satisfied: awscli in c:\\users\\iot\\anaconda3\\lib\\site-packages (1.16.89)\n",
      "Requirement already satisfied: s3transfer<0.2.0,>=0.1.10 in c:\\users\\iot\\anaconda3\\lib\\site-packages (from boto3) (0.1.13)\n",
      "Requirement already satisfied: botocore<1.13.0,>=1.12.79 in c:\\users\\iot\\anaconda3\\lib\\site-packages (from boto3) (1.12.79)\n",
      "Requirement already satisfied: jmespath<1.0.0,>=0.7.1 in c:\\users\\iot\\anaconda3\\lib\\site-packages (from boto3) (0.9.3)\n",
      "Requirement already satisfied: PyYAML<=3.13,>=3.10 in c:\\users\\iot\\anaconda3\\lib\\site-packages (from awscli) (3.13)\n",
      "Requirement already satisfied: colorama<=0.3.9,>=0.2.5 in c:\\users\\iot\\anaconda3\\lib\\site-packages (from awscli) (0.3.9)\n",
      "Requirement already satisfied: rsa<=3.5.0,>=3.1.2 in c:\\users\\iot\\anaconda3\\lib\\site-packages (from awscli) (3.4.2)\n",
      "Requirement already satisfied: docutils>=0.10 in c:\\users\\iot\\anaconda3\\lib\\site-packages (from awscli) (0.14)\n",
      "Requirement already satisfied: urllib3<1.25,>=1.20; python_version >= \"3.4\" in c:\\users\\iot\\anaconda3\\lib\\site-packages (from botocore<1.13.0,>=1.12.79->boto3) (1.23)\n",
      "Requirement already satisfied: python-dateutil<3.0.0,>=2.1; python_version >= \"2.7\" in c:\\users\\iot\\anaconda3\\lib\\site-packages (from botocore<1.13.0,>=1.12.79->boto3) (2.7.3)\n",
      "Requirement already satisfied: pyasn1>=0.1.3 in c:\\users\\iot\\anaconda3\\lib\\site-packages (from rsa<=3.5.0,>=3.1.2->awscli) (0.4.4)\n",
      "Requirement already satisfied: six>=1.5 in c:\\users\\iot\\anaconda3\\lib\\site-packages (from python-dateutil<3.0.0,>=2.1; python_version >= \"2.7\"->botocore<1.13.0,>=1.12.79->boto3) (1.11.0)\n"
     ]
    },
    {
     "name": "stderr",
     "output_type": "stream",
     "text": [
      "twisted 18.7.0 requires PyHamcrest>=1.9.0, which is not installed.\n",
      "You are using pip version 10.0.1, however version 18.1 is available.\n",
      "You should consider upgrading via the 'python -m pip install --upgrade pip' command.\n"
     ]
    },
    {
     "name": "stdout",
     "output_type": "stream",
     "text": [
      " * Serving Flask app \"__main__\" (lazy loading)\n",
      " * Environment: production\n",
      "   WARNING: Do not use the development server in a production environment.\n",
      "   Use a production WSGI server instead.\n",
      " * Debug mode: off\n"
     ]
    },
    {
     "name": "stderr",
     "output_type": "stream",
     "text": [
      " * Running on http://0.0.0.0:5000/ (Press CTRL+C to quit)\n",
      "10.120.23.235 - - [16/Jan/2019 21:35:40] \"POST / HTTP/1.1\" 400 -\n",
      "10.120.23.235 - - [16/Jan/2019 21:36:51] \"POST / HTTP/1.1\" 400 -\n",
      "10.120.23.235 - - [16/Jan/2019 21:37:18] \"POST / HTTP/1.1\" 400 -\n"
     ]
    }
   ],
   "source": [
    "#安裝套件\n",
    "!pip install flask \n",
    "!pip install boto3\n",
    "!pip install boto3 awscli\n",
    "\n",
    "#引用套件\n",
    "import boto3\n",
    "from pprint import pprint\n",
    "from flask import Flask, request, abort, jsonify\n",
    "\n",
    "\n",
    "#flask這個應用的啟動點\n",
    "app = Flask(__name__,static_url_path = \"/images\" , static_folder = \"./images/\" )\n",
    "#為這個啟動點增加訪問路徑/，並定義方法為post\n",
    "@app.route('/',methods=['POST'])\n",
    "\n",
    "\n",
    "#用戶能對此端口用POST方法訪問，挾帶任意json body\n",
    "def hellobaby():\n",
    "    #將用戶傳過來的request轉成json\n",
    "    t =request.get_json()\n",
    "    #取得用戶json的nickname並組成{'student25':xxxx}\n",
    "    jsonDict = {'student25': t.get('nickname','test')}\n",
    "    #=================================================\n",
    "\n",
    "    #將此body轉存成檔案，存在伺服器上\n",
    "    openfile = open('./hellotest.txt','w')\n",
    "    openfile.write(str(jsonDict)+\"\\n\\n\")\n",
    "    openfile.close()\n",
    "    print('=================================================\\hellotest.txt存檔完成~~\\n')\n",
    "\n",
    "\n",
    "    #將此檔案上傳至 iii-tutorial-v2桶內的student25資料夾下\n",
    "    #訪問s3桶子\n",
    "    s3 = boto3.client('s3')\n",
    "    #上傳S3/iii-tutorial-v2/mission8.txt\n",
    "    s3.upload_file('hellotest.txt', 'iii-tutorial-v2', 'student25/mission8.txt')\n",
    "    return jsonify(jsonDict)\n",
    "           \n",
    "if __name__ == \"__main__\":\n",
    "    app.run(host='0.0.0.0')"
   ]
  },
  {
   "cell_type": "code",
   "execution_count": null,
   "metadata": {},
   "outputs": [],
   "source": []
  }
 ],
 "metadata": {
  "kernelspec": {
   "display_name": "Python 3",
   "language": "python",
   "name": "python3"
  },
  "language_info": {
   "codemirror_mode": {
    "name": "ipython",
    "version": 3
   },
   "file_extension": ".py",
   "mimetype": "text/x-python",
   "name": "python",
   "nbconvert_exporter": "python",
   "pygments_lexer": "ipython3",
   "version": "3.7.0"
  }
 },
 "nbformat": 4,
 "nbformat_minor": 2
}
